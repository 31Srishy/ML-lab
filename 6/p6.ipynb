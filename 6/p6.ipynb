{
 "cells": [
  {
   "cell_type": "code",
   "execution_count": 1,
   "id": "7478ec67",
   "metadata": {},
   "outputs": [],
   "source": [
    "import pandas as pd\n",
    "import numpy as np\n",
    "import requests\n",
    "from sklearn.model_selection import train_test_split\n",
    "from sklearn.neighbors import KNeighborsClassifier\n",
    "from sklearn.metrics import accuracy_score\n",
    "from sklearn.metrics.pairwise import euclidean_distances, manhattan_distances"
   ]
  },
  {
   "cell_type": "code",
   "execution_count": 2,
   "id": "bb0543a1",
   "metadata": {},
   "outputs": [],
   "source": [
    "def load_glass_dataset(url):\n",
    "    df = pd.read_csv('glass.csv')\n",
    "    print(df.head())\n",
    "    X = df.drop(columns=['Type']).values\n",
    "    y = df['Type'].values\n",
    "    return X, y"
   ]
  },
  {
   "cell_type": "code",
   "execution_count": 3,
   "id": "e3fdc6bf",
   "metadata": {},
   "outputs": [],
   "source": [
    "def load_fruit_dataset(url):\n",
    "    df = pd.read_csv(url)\n",
    "    print(df.head())\n",
    "    X = df.drop(columns=['fruit_label', 'fruit_name', 'fruit_subtype']).values\n",
    "    y = df['fruit_label'].values\n",
    "    return X, y"
   ]
  },
  {
   "cell_type": "code",
   "execution_count": 4,
   "id": "5a2925c6",
   "metadata": {},
   "outputs": [],
   "source": [
    "def knn_classification(X_train, y_train, X_test, k, metric):\n",
    "    if metric == 'euclidean':\n",
    "        distances = euclidean_distances(X_test, X_train)\n",
    "    elif metric == 'manhattan':\n",
    "        distances = manhattan_distances(X_test, X_train)\n",
    "    else:\n",
    "        raise ValueError(\"Invalid distance metric. Choose 'euclidean' or 'manhattan'.\")\n",
    "    indices = np.argsort(distances, axis=1)\n",
    "    knn_indices = indices[:, :k]\n",
    "    knn_labels = y_train[knn_indices]\n",
    "\n",
    "    predictions = []\n",
    "    for neighbors in knn_labels:\n",
    "        unique, counts = np.unique(neighbors, return_counts=True)\n",
    "        pred_label = unique[np.argmax(counts)]\n",
    "        predictions.append(pred_label)\n",
    "\n",
    "    return np.array(predictions)"
   ]
  },
  {
   "cell_type": "code",
   "execution_count": 5,
   "id": "42988fec",
   "metadata": {},
   "outputs": [],
   "source": [
    "def evaluate(X, y, k_values, metrics, test_size=0.1):\n",
    "    for k in k_values:\n",
    "        for metric in metrics:\n",
    "            print(f\"K = {k}, Metric = {metric}:\")\n",
    "            accuracy_scores = []\n",
    "            for _ in range(3):  # 3 different train-test splits\n",
    "                X_train, X_test, y_train, y_test = train_test_split(X, y, test_size=test_size)\n",
    "                y_pred = knn_classification(X_train, y_train, X_test, k, metric)\n",
    "                accuracy = accuracy_score(y_test, y_pred)\n",
    "                accuracy_scores.append(accuracy)\n",
    "            print(\"Accuracy:\", np.mean(accuracy_scores))\n",
    "            print()"
   ]
  },
  {
   "cell_type": "code",
   "execution_count": null,
   "id": "f6b39eea",
   "metadata": {},
   "outputs": [
    {
     "name": "stdout",
     "output_type": "stream",
     "text": [
      "        RI     Na    Mg    Al     Si     K    Ca   Ba   Fe  Type\n",
      "0  1.52101  13.64  4.49  1.10  71.78  0.06  8.75  0.0  0.0     1\n",
      "1  1.51761  13.89  3.60  1.36  72.73  0.48  7.83  0.0  0.0     1\n",
      "2  1.51618  13.53  3.55  1.54  72.99  0.39  7.78  0.0  0.0     1\n",
      "3  1.51766  13.21  3.69  1.29  72.61  0.57  8.22  0.0  0.0     1\n",
      "4  1.51742  13.27  3.62  1.24  73.08  0.55  8.07  0.0  0.0     1\n"
     ]
    }
   ],
   "source": [
    "def main():\n",
    "     # Load Glass dataset\n",
    "    glass_url = \"https://github.com/jasp9559/KNN-Classifier-R-Python/raw/main/glass.csv\"\n",
    "    X_glass, y_glass = load_glass_dataset(glass_url)\n",
    "\n",
    "    # Load Fruit dataset\n",
    "    fruit_url = \"https://github.com/saanyalasod/Fruits/raw/main/fruit%20data.csv\"\n",
    "    X_fruit, y_fruit = load_fruit_dataset(fruit_url)\n",
    "\n",
    "    datasets = {'glass': (X_glass, y_glass), 'fruit': (X_fruit, y_fruit)}\n",
    "    k_values = [3, 5, 7]\n",
    "    metrics = ['euclidean', 'manhattan']\n",
    "    test_sizes = [0.1, 0.3]\n",
    "\n",
    "    for dataset_name, (X, y) in datasets.items():\n",
    "        print(f\"Dataset: {dataset_name.capitalize()}\")\n",
    "        for test_size in test_sizes:\n",
    "            print(f\"Test Size: {test_size}\")\n",
    "            evaluate(X, y, k_values, metrics, test_size)\n",
    "            print(\"=\"*30)\n",
    "        print(\"*\"*50)\n",
    "\n",
    "if __name__ == \"__main__\":\n",
    "    main()"
   ]
  }
 ],
 "metadata": {
  "kernelspec": {
   "display_name": "Python 3 (ipykernel)",
   "language": "python",
   "name": "python3"
  },
  "language_info": {
   "codemirror_mode": {
    "name": "ipython",
    "version": 3
   },
   "file_extension": ".py",
   "mimetype": "text/x-python",
   "name": "python",
   "nbconvert_exporter": "python",
   "pygments_lexer": "ipython3",
   "version": "3.11.5"
  }
 },
 "nbformat": 4,
 "nbformat_minor": 5
}
