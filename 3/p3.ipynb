{
 "cells": [
  {
   "cell_type": "code",
   "execution_count": 3,
   "id": "8c0fed41-8862-4f9c-a7a6-f0e9944eb5ae",
   "metadata": {
    "tags": []
   },
   "outputs": [
    {
     "name": "stdin",
     "output_type": "stream",
     "text": [
      "Enter the number of vertices:  10\n",
      "Enter the number of edges:  9\n"
     ]
    },
    {
     "name": "stdout",
     "output_type": "stream",
     "text": [
      "Enter the edge as source, destination and weight: \n"
     ]
    },
    {
     "name": "stdin",
     "output_type": "stream",
     "text": [
      " 0 1 2\n",
      " 0 2 1\n",
      " 0 3 10\n",
      " 1 4 3\n",
      " 1 5 2\n",
      " 2 6 9\n",
      " 3 7 5\n",
      " 3 8 2\n",
      " 7 9 5\n"
     ]
    },
    {
     "name": "stdout",
     "output_type": "stream",
     "text": [
      "Enter the heuristic values: \n"
     ]
    },
    {
     "name": "stdin",
     "output_type": "stream",
     "text": [
      " 20\n",
      " 21\n",
      " 34\n",
      " 54\n",
      " 31\n",
      " 11\n",
      " 12\n",
      " 244\n",
      " 19\n",
      " 16\n",
      "Enter the source vertex:  0\n",
      "Enter the goal vertex:  7\n"
     ]
    },
    {
     "name": "stdout",
     "output_type": "stream",
     "text": [
      "The path is: \n",
      "0 --> 3 --> 7 --> \n",
      "The visited nodes are: \n",
      "0 --> 1 --> 5 --> 4 --> 2 --> 6 --> 3 --> 8 --> 7 --> "
     ]
    }
   ],
   "source": [
    "class PQueue:\n",
    "    def __init__(self):\n",
    "        self.queue = []\n",
    "        \n",
    "    def put(self, value):\n",
    "        self.queue.append(value)\n",
    "        \n",
    "    def get(self):\n",
    "        try:\n",
    "            minimum = 0\n",
    "            for i in range(1,len(self.queue)):\n",
    "                if self.queue[i][0] < self.queue[minimum][0]:\n",
    "                    minimum = i\n",
    "            item = self.queue[minimum]\n",
    "            del self.queue[minimum]\n",
    "            return item\n",
    "        except IndexError:\n",
    "            print(\"Index has a problem\")\n",
    "            exit()\n",
    "            \n",
    "    def isEmpty(self):\n",
    "        return len(self.queue) == 0   \n",
    "    \n",
    "def best_first_search(graph, heuristic, source, goal):\n",
    "    visited = []\n",
    "    pq = PQueue()\n",
    "    pq.put((0, [source]))\n",
    "    \n",
    "    while not pq.isEmpty():\n",
    "        cost, path = pq.get()\n",
    "        node = path[-1]\n",
    "        \n",
    "        if node == goal:\n",
    "            visited.append(node)\n",
    "            return (visited, path)\n",
    "        \n",
    "        visited.append(node)\n",
    "        \n",
    "        for adj, weight in graph[node]:\n",
    "            if adj not in visited:\n",
    "                pri = heuristic[adj]\n",
    "                new_path = list(path)\n",
    "                new_path.append(adj)\n",
    "                pq.put((pri, new_path))\n",
    "                \n",
    "    return None\n",
    "    \n",
    "n = int(input(\"Enter the number of vertices: \"))\n",
    "graph = [[] for _ in range(n)]\n",
    "e = int(input(\"Enter the number of edges: \"))\n",
    "print(\"Enter the edge as source, destination and weight: \")\n",
    "for i in range(e):\n",
    "    u, v, w = map(int, input().split())\n",
    "    graph[u].append((v, w))\n",
    "                 \n",
    "heuristic = {}\n",
    "print(\"Enter the heuristic values: \")\n",
    "for i in range(n):\n",
    "    heuristic[i] = int(input())\n",
    "src = int(input(\"Enter the source vertex: \"))\n",
    "dest = int(input(\"Enter the goal vertex: \"))\n",
    "    \n",
    "res = best_first_search(graph, heuristic, src, dest)\n",
    "if res == None:\n",
    "    print(\"There is no path from given source to destination\")\n",
    "else:\n",
    "    print(\"The path is: \")\n",
    "    for i in res[1]:\n",
    "        print(i, end=\" --> \" )\n",
    "    print()\n",
    "    print(\"The visited nodes are: \")\n",
    "    for i in res[0]:\n",
    "        print(i, end=\" --> \")"
   ]
  },
  {
   "cell_type": "code",
   "execution_count": 4,
   "id": "ae3151bc-9191-4722-ae4a-07a9771a7a85",
   "metadata": {
    "tags": []
   },
   "outputs": [
    {
     "name": "stdin",
     "output_type": "stream",
     "text": [
      "Enter the number of vertices:  4\n",
      "Enter the number of edges:  5\n"
     ]
    },
    {
     "name": "stdout",
     "output_type": "stream",
     "text": [
      "Enter the edge as source, destination and weight: \n"
     ]
    },
    {
     "name": "stdin",
     "output_type": "stream",
     "text": [
      " 0 1 1\n",
      " 0 2 3\n",
      " 0 3 7\n",
      " 1 3 5\n",
      " 2 3 12\n"
     ]
    },
    {
     "name": "stdout",
     "output_type": "stream",
     "text": [
      "Enter the heuristic values: \n"
     ]
    },
    {
     "name": "stdin",
     "output_type": "stream",
     "text": [
      " 1\n",
      " 1\n",
      " 1\n",
      " 1\n",
      "Enter the source vertex:  0\n",
      "Enter the goal vertex:  3\n"
     ]
    },
    {
     "name": "stdout",
     "output_type": "stream",
     "text": [
      "The path is: \n",
      "0 --> 1 --> 3 --> \n",
      "The visited order is: \n",
      "0 --> 1 --> 2 --> 3 --> \n"
     ]
    }
   ],
   "source": [
    "# Program to show A* algorithm\n",
    "class PQueue:\n",
    "    def __init__(self):\n",
    "        self.queue = []\n",
    "        \n",
    "    def put(self, value):\n",
    "        self.queue.append(value)\n",
    "        \n",
    "    def get(self):\n",
    "        try:\n",
    "            minimum = 0\n",
    "            for i in range(1,len(self.queue)):\n",
    "                if self.queue[i][0] < self.queue[minimum][0]:\n",
    "                    minimum = i\n",
    "            item = self.queue[minimum]\n",
    "            del self.queue[minimum]\n",
    "            return item\n",
    "        except IndexError:\n",
    "            print(\"Index has a problem\")\n",
    "            exit()\n",
    "            \n",
    "    def isEmpty(self):\n",
    "        return len(self.queue) == 0   \n",
    "    \n",
    "def a_star_algorithm(graph, heuristic, source, goal):\n",
    "    visited = []\n",
    "    pq = PQueue()\n",
    "    pq.put((0, [source]))\n",
    "    \n",
    "    while not pq.isEmpty():\n",
    "        cost, path = pq.get()\n",
    "        node = path[-1]\n",
    "        \n",
    "        if node == goal:\n",
    "            visited.append(node)\n",
    "            return (visited, path)\n",
    "        \n",
    "        visited.append(node)\n",
    "        \n",
    "        for adj, weight in graph[node]:\n",
    "            if adj not in visited:\n",
    "                pri = heuristic[adj]  \n",
    "                new_path = list(path)\n",
    "                new_path.append(adj)\n",
    "                pq.put(((pri + weight), new_path))\n",
    "                \n",
    "    return None\n",
    "    \n",
    "n = int(input(\"Enter the number of vertices: \"))\n",
    "graph = [[] for _ in range(n)]\n",
    "e = int(input(\"Enter the number of edges: \"))\n",
    "print(\"Enter the edge as source, destination and weight: \")\n",
    "for i in range(e):\n",
    "    u, v, w = map(int, input().split())\n",
    "    graph[u].append((v, w))\n",
    "                 \n",
    "heuristic = {}\n",
    "print(\"Enter the heuristic values: \")\n",
    "for i in range(n):\n",
    "    heuristic[i] = int(input())\n",
    "src = int(input(\"Enter the source vertex: \"))\n",
    "dest = int(input(\"Enter the goal vertex: \"))\n",
    "    \n",
    "res = a_star_algorithm(graph, heuristic, src, dest)\n",
    "if res == None:\n",
    "    print(\"There is no path from given source to destination\")\n",
    "else:\n",
    "    print(\"The path is: \")\n",
    "    for i in res[1]:\n",
    "        print(i, end=\" --> \")\n",
    "    print()\n",
    "    print(\"The visited order is: \")\n",
    "    for i in res[0]:\n",
    "        print(i, end=\" --> \")\n",
    "    print()"
   ]
  },
  {
   "cell_type": "code",
   "execution_count": null,
   "id": "e0f46e44-5903-4f3b-90cc-2927be7f4f74",
   "metadata": {},
   "outputs": [],
   "source": []
  }
 ],
 "metadata": {
  "kernelspec": {
   "display_name": "Python 3 (ipykernel)",
   "language": "python",
   "name": "python3"
  },
  "language_info": {
   "codemirror_mode": {
    "name": "ipython",
    "version": 3
   },
   "file_extension": ".py",
   "mimetype": "text/x-python",
   "name": "python",
   "nbconvert_exporter": "python",
   "pygments_lexer": "ipython3",
   "version": "3.11.5"
  }
 },
 "nbformat": 4,
 "nbformat_minor": 5
}
