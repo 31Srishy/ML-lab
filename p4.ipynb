{
 "cells": [
  {
   "cell_type": "code",
   "execution_count": 2,
   "id": "7b601cc7-2998-473f-800c-00289d1bbf3f",
   "metadata": {
    "tags": []
   },
   "outputs": [
    {
     "name": "stdout",
     "output_type": "stream",
     "text": [
      "Enter the scores list: \n"
     ]
    },
    {
     "name": "stdin",
     "output_type": "stream",
     "text": [
      " 3, 5, 6, 9, 1, 2, 0, -13, 5, 6, 9, 1, 2, 0, -1\n"
     ]
    },
    {
     "name": "stdout",
     "output_type": "stream",
     "text": [
      "The value at level 2 is 5\n",
      "The value at level 2 is 6\n",
      "The value at level 1 is 5\n",
      "The value at level 2 is 2\n",
      "The value at level 1 is 2\n",
      "The value at level 0 is 5\n",
      "The optimal value of the game is: 5 \n"
     ]
    }
   ],
   "source": [
    "# Program for implementation of alpha beta pruning\n",
    "import math\n",
    "\n",
    "def minimax(depth, nodeIndex, maxTurn, scores, n, alpha, beta):\n",
    "    if depth == 0:\n",
    "        return scores[nodeIndex-(2*n+1)]\n",
    "    \n",
    "    if maxTurn:\n",
    "        optimal_value = -math.inf\n",
    "        for i in range(1, 3):\n",
    "            optimal_value = max(optimal_value, minimax(depth-1, nodeIndex*2+i, False, scores, n, alpha, beta))\n",
    "            alpha = max(alpha, optimal_value)\n",
    "            if beta <= alpha:\n",
    "                break\n",
    "        print(\"The value at level {} is {}\".format(n-depth, optimal_value))\n",
    "        return optimal_value\n",
    "    else:\n",
    "        optimal_value = math.inf\n",
    "        for i in range(1, 3):\n",
    "            optimal_value = min(optimal_value, minimax(depth-1, nodeIndex*2+i, True, scores, n, alpha, beta))\n",
    "            beta = min(beta, optimal_value)\n",
    "            if beta <= alpha:\n",
    "                break\n",
    "        print(\"The value at level {} is {}\".format(n-depth, optimal_value))\n",
    "        return optimal_value\n",
    "\n",
    "\n",
    "print(\"Enter the scores list: \")\n",
    "scores = list(map(int, input().split(\", \")))\n",
    "treeDepth = math.floor(math.log(len(scores), 2))\n",
    "opt_val = minimax(treeDepth, 0, True, scores, treeDepth, -math.inf, math.inf)\n",
    "print(\"The optimal value of the game is: {} \".format(opt_val))"
   ]
  },
  {
   "cell_type": "code",
   "execution_count": 3,
   "id": "f383b44f-fd49-48a4-891b-7f04e0273a6f",
   "metadata": {
    "tags": []
   },
   "outputs": [
    {
     "name": "stdout",
     "output_type": "stream",
     "text": [
      "Enter the scores list: \n"
     ]
    },
    {
     "name": "stdin",
     "output_type": "stream",
     "text": [
      " 3, 5, 2, 9, 12, 5, 23, 23\n"
     ]
    },
    {
     "name": "stdout",
     "output_type": "stream",
     "text": [
      "The value at level 2 is 5\n",
      "The value at level 2 is 9\n",
      "The value at level 1 is 5\n",
      "The value at level 2 is 12\n",
      "The value at level 2 is 23\n",
      "The value at level 1 is 12\n",
      "The value at level 0 is 12\n",
      "The optimal value of the game is: 12 \n"
     ]
    }
   ],
   "source": [
    "# Program to implement minimax algorithm\n",
    "import math\n",
    "\n",
    "def minimax(depth, nodeIndex, maxTurn, scores, n):\n",
    "    if depth == 0:\n",
    "        return scores[nodeIndex-(2*n+1)]\n",
    "    \n",
    "    if maxTurn:\n",
    "        optimal_value = -math.inf\n",
    "        for i in range(1, 3):\n",
    "            optimal_value = max(optimal_value, minimax(depth-1, nodeIndex*2+i, False, scores, n))\n",
    "        print(\"The value at level {} is {}\".format(n-depth, optimal_value))\n",
    "        return optimal_value\n",
    "    else:\n",
    "        optimal_value = math.inf\n",
    "        for i in range(1, 3):\n",
    "            optimal_value = min(optimal_value, minimax(depth-1, nodeIndex*2+i, True, scores, n))\n",
    "        print(\"The value at level {} is {}\".format(n-depth, optimal_value))\n",
    "        return optimal_value\n",
    "\n",
    "\n",
    "print(\"Enter the scores list: \")\n",
    "scores = list(map(int, input().split(\", \")))\n",
    "treeDepth = math.floor(math.log(len(scores), 2))\n",
    "opt_val = minimax(treeDepth, 0, True, scores, treeDepth)\n",
    "print(\"The optimal value of the game is: {} \".format(opt_val))"
   ]
  },
  {
   "cell_type": "code",
   "execution_count": null,
   "id": "8c5f2466-6721-4ecc-9efd-605ce89a614a",
   "metadata": {},
   "outputs": [],
   "source": []
  }
 ],
 "metadata": {
  "kernelspec": {
   "display_name": "Python 3 (ipykernel)",
   "language": "python",
   "name": "python3"
  },
  "language_info": {
   "codemirror_mode": {
    "name": "ipython",
    "version": 3
   },
   "file_extension": ".py",
   "mimetype": "text/x-python",
   "name": "python",
   "nbconvert_exporter": "python",
   "pygments_lexer": "ipython3",
   "version": "3.11.5"
  }
 },
 "nbformat": 4,
 "nbformat_minor": 5
}
