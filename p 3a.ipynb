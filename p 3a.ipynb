{
 "cells": [
  {
   "cell_type": "code",
   "execution_count": 1,
   "id": "4da0b100",
   "metadata": {},
   "outputs": [
    {
     "name": "stdout",
     "output_type": "stream",
     "text": [
      "Maximum cost from A to G is ['A', 'B', 'D', 'C', 'C', 'E', 'E', 'F', 'H', 'H', 'G']\n",
      "Cost: 66\n"
     ]
    }
   ],
   "source": [
    "def best_first_search(graph, start, goal, heuristic, path=[]):\n",
    "    open_list = [(0, start)]\n",
    "    closed_list = set()\n",
    "    closed_list.add(start)\n",
    "\n",
    "    while open_list:\n",
    "        open_list.sort(key=lambda x: heuristic[x[1]], reverse=True)\n",
    "        cost, node = open_list.pop(0)\n",
    "        path.append(node)\n",
    "\n",
    "        if node == goal:\n",
    "            return cost, path\n",
    "\n",
    "        closed_list.add(node)\n",
    "\n",
    "        for neighbour, neighbour_cost in graph[node]:\n",
    "            if neighbour not in closed_list:\n",
    "                open_list.append((cost + neighbour_cost, neighbour))\n",
    "\n",
    "    return None\n",
    "\n",
    "# Define the graph\n",
    "graph = {\n",
    "    'A': [('B', 14), ('C', 10)],\n",
    "    'B': [('A', 14), ('D', 7)],\n",
    "    'C': [('A', 10), ('D', 13), ('E', 8)],\n",
    "    'D': [('B', 7), ('C', 13), ('F', 25)],\n",
    "    'E': [('C', 8), ('H', 4)],\n",
    "    'F': [('D', 25), ('G', 20)],\n",
    "    'G': [],\n",
    "    'H': [('E', 4), ('G', 0)]\n",
    "}\n",
    "\n",
    "start, goal = 'A', 'G'\n",
    "\n",
    "heuristic = {'A': 40, 'B': 32, 'C': 25, 'D': 35, 'E': 19, 'F': 17, 'G': 0, 'H': 10}\n",
    "\n",
    "result = best_first_search(graph, start, goal, heuristic)\n",
    "\n",
    "if result:\n",
    "    print(f\"Maximum cost from {start} to {goal} is {result[1]}\")\n",
    "    print(f\"Cost: {result[0]}\")\n",
    "else:\n",
    "    print(f\"No path from {start} to {goal}\")\n"
   ]
  },
  {
   "cell_type": "code",
   "execution_count": 3,
   "id": "6c498e43",
   "metadata": {},
   "outputs": [
    {
     "name": "stdout",
     "output_type": "stream",
     "text": [
      "Path exists from A to G using Best First Search.\n",
      "Path Cost: 3\n",
      "Path: A -> C -> E -> G\n"
     ]
    }
   ],
   "source": [
    "import heapq\n",
    "\n",
    "def best_first_search(graph, start, goal):\n",
    "    visited = set()\n",
    "    priority_queue = [(0, start, [])]  # (priority, node, path)\n",
    "    \n",
    "    while priority_queue:\n",
    "        cost, current_node, path = heapq.heappop(priority_queue)\n",
    "        \n",
    "        if current_node == goal:\n",
    "            return True, cost, path + [current_node]\n",
    "        \n",
    "        if current_node in visited:\n",
    "            continue\n",
    "        \n",
    "        visited.add(current_node)\n",
    "        \n",
    "        for neighbor, neighbor_cost in graph[current_node]:\n",
    "            if neighbor not in visited:\n",
    "                heapq.heappush(priority_queue, (neighbor_cost, neighbor, path + [current_node]))\n",
    "    \n",
    "    return False, None, None\n",
    "\n",
    "# Example graph representation (dictionary of lists)\n",
    "graph = {\n",
    "    'A': [('B', 5), ('C', 7)],\n",
    "    'B': [('D', 9)],\n",
    "    'C': [('E', 8)],\n",
    "    'D': [('F', 6)],\n",
    "    'E': [('G', 3)],\n",
    "    'F': [('G', 2)],\n",
    "    'G': []\n",
    "}\n",
    "\n",
    "start_node = 'A'\n",
    "goal_node = 'G'\n",
    "\n",
    "path_exists, path_cost, path = best_first_search(graph, start_node, goal_node)\n",
    "\n",
    "if path_exists:\n",
    "    print(f\"Path exists from {start_node} to {goal_node} using Best First Search.\")\n",
    "    print(f\"Path Cost: {path_cost}\")\n",
    "    print(f\"Path: {' -> '.join(path)}\")\n",
    "else:\n",
    "    print(f\"No path exists from {start_node} to {goal_node} using Best First Search.\")\n"
   ]
  },
  {
   "cell_type": "code",
   "execution_count": null,
   "id": "352ef940",
   "metadata": {},
   "outputs": [],
   "source": []
  }
 ],
 "metadata": {
  "kernelspec": {
   "display_name": "Python 3 (ipykernel)",
   "language": "python",
   "name": "python3"
  },
  "language_info": {
   "codemirror_mode": {
    "name": "ipython",
    "version": 3
   },
   "file_extension": ".py",
   "mimetype": "text/x-python",
   "name": "python",
   "nbconvert_exporter": "python",
   "pygments_lexer": "ipython3",
   "version": "3.11.5"
  }
 },
 "nbformat": 4,
 "nbformat_minor": 5
}
